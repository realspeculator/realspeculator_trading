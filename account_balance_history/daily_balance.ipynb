{
 "cells": [
  {
   "cell_type": "code",
   "execution_count": 1,
   "id": "b5fb7ddb-7d10-4fbb-af7b-2b59a445f88f",
   "metadata": {
    "execution": {
     "iopub.execute_input": "2024-12-11T19:56:40.455136Z",
     "iopub.status.busy": "2024-12-11T19:56:40.454783Z",
     "iopub.status.idle": "2024-12-11T19:56:40.688912Z",
     "shell.execute_reply": "2024-12-11T19:56:40.687366Z"
    }
   },
   "outputs": [],
   "source": [
    "import configparser\n",
    "import requests\n",
    "import pandas as pd\n",
    "from datetime import datetime\n",
    "import ast\n",
    "\n",
    "# Read the config file\n",
    "config = configparser.ConfigParser()\n",
    "config.read(\"../alpaca.ini\")\n",
    "api = config['ALPACA']['api']\n",
    "secret = config['ALPACA']['secret']"
   ]
  },
  {
   "cell_type": "code",
   "execution_count": 2,
   "id": "60180715-c82d-453e-b8c7-6c5677a2235f",
   "metadata": {
    "execution": {
     "iopub.execute_input": "2024-12-11T19:56:40.693921Z",
     "iopub.status.busy": "2024-12-11T19:56:40.693533Z",
     "iopub.status.idle": "2024-12-11T19:56:40.860264Z",
     "shell.execute_reply": "2024-12-11T19:56:40.859995Z"
    }
   },
   "outputs": [],
   "source": [
    "url = \"https://paper-api.alpaca.markets/v2/account/portfolio/history?intraday_reporting=market_hours&pnl_reset=per_day\"\n",
    "\n",
    "headers = {\n",
    "    \"accept\": \"application/json\",\n",
    "    \"APCA-API-KEY-ID\": api,\n",
    "    \"APCA-API-SECRET-KEY\": secret\n",
    "}\n",
    "\n",
    "response = requests.get(url, headers=headers)"
   ]
  },
  {
   "cell_type": "code",
   "execution_count": 3,
   "id": "0c793960-9abb-497f-b946-b23121eb7ee2",
   "metadata": {
    "execution": {
     "iopub.execute_input": "2024-12-11T19:56:40.861852Z",
     "iopub.status.busy": "2024-12-11T19:56:40.861765Z",
     "iopub.status.idle": "2024-12-11T19:56:40.864745Z",
     "shell.execute_reply": "2024-12-11T19:56:40.864527Z"
    }
   },
   "outputs": [],
   "source": [
    "bal_history = pd.DataFrame(ast.literal_eval(response.text))\n",
    "bal_history['timestamp'] = pd.to_datetime(bal_history['timestamp'],unit='s')"
   ]
  },
  {
   "cell_type": "code",
   "execution_count": 4,
   "id": "503988b9-1c5f-4dec-9d95-cfaebb5e0784",
   "metadata": {
    "execution": {
     "iopub.execute_input": "2024-12-11T19:56:40.866065Z",
     "iopub.status.busy": "2024-12-11T19:56:40.865992Z",
     "iopub.status.idle": "2024-12-11T19:56:40.867603Z",
     "shell.execute_reply": "2024-12-11T19:56:40.867354Z"
    }
   },
   "outputs": [],
   "source": [
    "file_name = datetime.now().strftime(\"%Y_%m_%d_%H_%M_%S\") + (\"_balance_history.csv\")\n",
    "file_name = \"daily_balance_data/\" + file_name"
   ]
  },
  {
   "cell_type": "code",
   "execution_count": 5,
   "id": "a8ac2fc3-ca35-42c5-a5d3-0cd24d663f04",
   "metadata": {
    "execution": {
     "iopub.execute_input": "2024-12-11T19:56:40.868730Z",
     "iopub.status.busy": "2024-12-11T19:56:40.868649Z",
     "iopub.status.idle": "2024-12-11T19:56:40.871992Z",
     "shell.execute_reply": "2024-12-11T19:56:40.871762Z"
    }
   },
   "outputs": [],
   "source": [
    "bal_history.to_csv(file_name,index=False)"
   ]
  },
  {
   "cell_type": "code",
   "execution_count": 6,
   "id": "974f647c-171f-423d-8dc0-798cb4dbf6de",
   "metadata": {
    "execution": {
     "iopub.execute_input": "2024-12-11T19:56:40.873231Z",
     "iopub.status.busy": "2024-12-11T19:56:40.873154Z",
     "iopub.status.idle": "2024-12-11T19:56:40.878755Z",
     "shell.execute_reply": "2024-12-11T19:56:40.878538Z"
    }
   },
   "outputs": [
    {
     "data": {
      "text/html": [
       "<div>\n",
       "<style scoped>\n",
       "    .dataframe tbody tr th:only-of-type {\n",
       "        vertical-align: middle;\n",
       "    }\n",
       "\n",
       "    .dataframe tbody tr th {\n",
       "        vertical-align: top;\n",
       "    }\n",
       "\n",
       "    .dataframe thead th {\n",
       "        text-align: right;\n",
       "    }\n",
       "</style>\n",
       "<table border=\"1\" class=\"dataframe\">\n",
       "  <thead>\n",
       "    <tr style=\"text-align: right;\">\n",
       "      <th></th>\n",
       "      <th>timestamp</th>\n",
       "      <th>equity</th>\n",
       "      <th>profit_loss</th>\n",
       "      <th>profit_loss_pct</th>\n",
       "      <th>base_value</th>\n",
       "      <th>timeframe</th>\n",
       "    </tr>\n",
       "  </thead>\n",
       "  <tbody>\n",
       "    <tr>\n",
       "      <th>17</th>\n",
       "      <td>2024-12-06 01:00:00</td>\n",
       "      <td>0.0</td>\n",
       "      <td>0.0</td>\n",
       "      <td>0.0</td>\n",
       "      <td>1000000.0</td>\n",
       "      <td>1D</td>\n",
       "    </tr>\n",
       "    <tr>\n",
       "      <th>18</th>\n",
       "      <td>2024-12-07 01:00:00</td>\n",
       "      <td>0.0</td>\n",
       "      <td>0.0</td>\n",
       "      <td>0.0</td>\n",
       "      <td>1000000.0</td>\n",
       "      <td>1D</td>\n",
       "    </tr>\n",
       "    <tr>\n",
       "      <th>19</th>\n",
       "      <td>2024-12-10 01:00:00</td>\n",
       "      <td>0.0</td>\n",
       "      <td>0.0</td>\n",
       "      <td>0.0</td>\n",
       "      <td>1000000.0</td>\n",
       "      <td>1D</td>\n",
       "    </tr>\n",
       "    <tr>\n",
       "      <th>20</th>\n",
       "      <td>2024-12-11 01:00:00</td>\n",
       "      <td>1000000.0</td>\n",
       "      <td>0.0</td>\n",
       "      <td>0.0</td>\n",
       "      <td>1000000.0</td>\n",
       "      <td>1D</td>\n",
       "    </tr>\n",
       "    <tr>\n",
       "      <th>21</th>\n",
       "      <td>2024-12-11 19:56:40</td>\n",
       "      <td>999994.0</td>\n",
       "      <td>-6.0</td>\n",
       "      <td>0.0</td>\n",
       "      <td>1000000.0</td>\n",
       "      <td>1D</td>\n",
       "    </tr>\n",
       "  </tbody>\n",
       "</table>\n",
       "</div>"
      ],
      "text/plain": [
       "             timestamp     equity  profit_loss  profit_loss_pct  base_value  \\\n",
       "17 2024-12-06 01:00:00        0.0          0.0              0.0   1000000.0   \n",
       "18 2024-12-07 01:00:00        0.0          0.0              0.0   1000000.0   \n",
       "19 2024-12-10 01:00:00        0.0          0.0              0.0   1000000.0   \n",
       "20 2024-12-11 01:00:00  1000000.0          0.0              0.0   1000000.0   \n",
       "21 2024-12-11 19:56:40   999994.0         -6.0              0.0   1000000.0   \n",
       "\n",
       "   timeframe  \n",
       "17        1D  \n",
       "18        1D  \n",
       "19        1D  \n",
       "20        1D  \n",
       "21        1D  "
      ]
     },
     "execution_count": 6,
     "metadata": {},
     "output_type": "execute_result"
    }
   ],
   "source": [
    "bal_history.tail()"
   ]
  }
 ],
 "metadata": {
  "kernelspec": {
   "display_name": "Python 3 (ipykernel)",
   "language": "python",
   "name": "python3"
  },
  "language_info": {
   "codemirror_mode": {
    "name": "ipython",
    "version": 3
   },
   "file_extension": ".py",
   "mimetype": "text/x-python",
   "name": "python",
   "nbconvert_exporter": "python",
   "pygments_lexer": "ipython3",
   "version": "3.12.7"
  }
 },
 "nbformat": 4,
 "nbformat_minor": 5
}
