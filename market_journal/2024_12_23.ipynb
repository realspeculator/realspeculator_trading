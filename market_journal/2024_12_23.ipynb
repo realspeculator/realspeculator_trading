{
 "cells": [
  {
   "cell_type": "markdown",
   "id": "25221eea-5f71-4d00-a787-0288b72a21e6",
   "metadata": {},
   "source": [
    "#### December 23, 2024"
   ]
  },
  {
   "cell_type": "markdown",
   "id": "55ff8f4b-092c-477e-b844-d765946dc661",
   "metadata": {},
   "source": [
    "##### 9:32AM\n",
    "\n",
    "- Open is at the lower end of last day's value area.\n"
   ]
  },
  {
   "cell_type": "markdown",
   "id": "8ce30792-054c-4820-b339-f4419e9412c6",
   "metadata": {},
   "source": []
  },
  {
   "cell_type": "markdown",
   "id": "7dde317a-c4a1-4b15-8db5-321135f6ba7a",
   "metadata": {},
   "source": []
  },
  {
   "cell_type": "markdown",
   "id": "b68f081a-707a-46a6-9b13-c295d65b5ba0",
   "metadata": {},
   "source": []
  },
  {
   "cell_type": "markdown",
   "id": "269bbd99-1fe7-4d66-9354-43da7eeb576c",
   "metadata": {},
   "source": []
  },
  {
   "cell_type": "markdown",
   "id": "2fdd1637-6d65-4a70-b58d-663b5a3f3887",
   "metadata": {},
   "source": []
  }
 ],
 "metadata": {
  "kernelspec": {
   "display_name": "Python 3 (ipykernel)",
   "language": "python",
   "name": "python3"
  },
  "language_info": {
   "codemirror_mode": {
    "name": "ipython",
    "version": 3
   },
   "file_extension": ".py",
   "mimetype": "text/x-python",
   "name": "python",
   "nbconvert_exporter": "python",
   "pygments_lexer": "ipython3",
   "version": "3.12.7"
  }
 },
 "nbformat": 4,
 "nbformat_minor": 5
}
