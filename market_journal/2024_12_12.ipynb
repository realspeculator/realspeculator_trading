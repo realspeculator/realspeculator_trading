{
 "cells": [
  {
   "cell_type": "code",
   "execution_count": 1,
   "id": "a62d7489-904d-4558-8545-10dfd985ae07",
   "metadata": {},
   "outputs": [],
   "source": [
    "import pandas as pd"
   ]
  },
  {
   "cell_type": "markdown",
   "id": "f50b2739-851d-490e-9ce0-cc8c60a71e44",
   "metadata": {},
   "source": [
    "##### December 12, 2024 "
   ]
  },
  {
   "cell_type": "markdown",
   "id": "c59b0840-82c2-403c-80ca-9d2b470b95f7",
   "metadata": {},
   "source": [
    "##### 10:20AM \n",
    "\n",
    "The markets are weak today. They have been grinding painfully higher and rally seems to be more sluggish lately."
   ]
  },
  {
   "cell_type": "code",
   "execution_count": null,
   "id": "bb60e4ec-871b-4655-961e-24d4d117f962",
   "metadata": {},
   "outputs": [],
   "source": []
  }
 ],
 "metadata": {
  "kernelspec": {
   "display_name": "Python 3 (ipykernel)",
   "language": "python",
   "name": "python3"
  },
  "language_info": {
   "codemirror_mode": {
    "name": "ipython",
    "version": 3
   },
   "file_extension": ".py",
   "mimetype": "text/x-python",
   "name": "python",
   "nbconvert_exporter": "python",
   "pygments_lexer": "ipython3",
   "version": "3.12.7"
  }
 },
 "nbformat": 4,
 "nbformat_minor": 5
}
