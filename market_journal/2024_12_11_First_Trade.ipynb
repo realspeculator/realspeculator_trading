{
 "cells": [
  {
   "cell_type": "markdown",
   "id": "79ab896c-9876-4dd4-88ff-5482b719a8a3",
   "metadata": {},
   "source": [
    "##### First Trade IOT"
   ]
  },
  {
   "cell_type": "markdown",
   "id": "da50de9a-b5e3-405a-aba3-82ec85c0df46",
   "metadata": {},
   "source": [
    "We made our first trade.\n",
    "\n",
    "`IOT buy\tmarket\tfilled\t-\t1,200.00\t1,200.00\t$46.01`"
   ]
  },
  {
   "cell_type": "markdown",
   "id": "70525bc5-f774-4f1d-9cec-9acd6bd5b27f",
   "metadata": {},
   "source": [
    "This is now updated on the github with the timestamp under the [orders](https://github.com/realspeculator/realspeculator_trading/blob/master/orders/orders_data/2024_12_11_14_56_42_order_history.csv) section of this repo."
   ]
  },
  {
   "cell_type": "markdown",
   "id": "81a1c405-0e93-48a3-8182-d4f5f2450dff",
   "metadata": {},
   "source": [
    "Stoploss trade was entered at `2024-12-11 20:02:16.191966+00:00`. The stop price is $41.88. You can see that [here](https://github.com/realspeculator/realspeculator_trading/blob/master/orders/orders_data/2024_12_11_15_45_21_order_history.csv)."
   ]
  },
  {
   "cell_type": "code",
   "execution_count": null,
   "id": "4dadb829-0529-4bef-a48b-a04c67a61539",
   "metadata": {},
   "outputs": [],
   "source": []
  }
 ],
 "metadata": {
  "kernelspec": {
   "display_name": "Python 3 (ipykernel)",
   "language": "python",
   "name": "python3"
  },
  "language_info": {
   "codemirror_mode": {
    "name": "ipython",
    "version": 3
   },
   "file_extension": ".py",
   "mimetype": "text/x-python",
   "name": "python",
   "nbconvert_exporter": "python",
   "pygments_lexer": "ipython3",
   "version": "3.12.7"
  }
 },
 "nbformat": 4,
 "nbformat_minor": 5
}
