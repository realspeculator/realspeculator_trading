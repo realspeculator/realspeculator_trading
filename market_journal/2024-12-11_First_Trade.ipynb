{
 "cells": [
  {
   "cell_type": "markdown",
   "id": "79ab896c-9876-4dd4-88ff-5482b719a8a3",
   "metadata": {},
   "source": [
    "##### First Trade"
   ]
  },
  {
   "cell_type": "markdown",
   "id": "da50de9a-b5e3-405a-aba3-82ec85c0df46",
   "metadata": {},
   "source": [
    "We made our first trade.\n",
    "\n",
    "`IOT buy\tmarket\tfilled\t-\t1,200.00\t1,200.00\t$46.01`"
   ]
  },
  {
   "cell_type": "markdown",
   "id": "70525bc5-f774-4f1d-9cec-9acd6bd5b27f",
   "metadata": {},
   "source": [
    "This is now updated on the github with the timestamp under the [orders](https://github.com/realspeculator/realspeculator_trading/blob/master/orders/orders_data/2024_12_11_14_56_42_order_history.csv) section of this repo."
   ]
  },
  {
   "cell_type": "code",
   "execution_count": null,
   "id": "0a4f1c33-24ac-474b-a549-f13db948076c",
   "metadata": {},
   "outputs": [],
   "source": []
  }
 ],
 "metadata": {
  "kernelspec": {
   "display_name": "Python 3 (ipykernel)",
   "language": "python",
   "name": "python3"
  },
  "language_info": {
   "codemirror_mode": {
    "name": "ipython",
    "version": 3
   },
   "file_extension": ".py",
   "mimetype": "text/x-python",
   "name": "python",
   "nbconvert_exporter": "python",
   "pygments_lexer": "ipython3",
   "version": "3.12.7"
  }
 },
 "nbformat": 4,
 "nbformat_minor": 5
}
