{
 "cells": [
  {
   "cell_type": "code",
   "execution_count": 1,
   "id": "85cba043-a91f-423d-81fe-01f35deff327",
   "metadata": {
    "execution": {
     "iopub.execute_input": "2025-01-02T14:22:49.063645Z",
     "iopub.status.busy": "2025-01-02T14:22:49.063397Z",
     "iopub.status.idle": "2025-01-02T14:22:50.177832Z",
     "shell.execute_reply": "2025-01-02T14:22:50.177127Z"
    }
   },
   "outputs": [],
   "source": [
    "import configparser\n",
    "import requests\n",
    "import pandas as pd\n",
    "from datetime import datetime\n",
    "import ast\n",
    "from alpaca.trading.client import TradingClient\n",
    "\n",
    "# file to save data\n",
    "file_name = datetime.now().strftime(\"%Y_%m_%d_%H_%M_%S\") + (\"_daily_position.csv\")\n",
    "file_name = \"daily_position_data/\" + file_name\n",
    "\n",
    "file_name2 = datetime.now().strftime(\"%Y_%m_%d_%H_%M_%S\") + (\"_daily_account.csv\")\n",
    "file_name2 = \"daily_position_data/\" + file_name2\n",
    "\n",
    "# Read the config file\n",
    "config = configparser.ConfigParser()\n",
    "config.read(\"../alpaca.ini\")\n",
    "api = config['ALPACA']['api']\n",
    "secret = config['ALPACA']['secret']\n",
    "\n",
    "trading_client = TradingClient(api, secret)\n",
    "\n",
    "portfolio = trading_client.get_all_positions()"
   ]
  },
  {
   "cell_type": "code",
   "execution_count": 2,
   "id": "c3561256-4fa1-4973-bcd4-f5ba89e376b8",
   "metadata": {
    "execution": {
     "iopub.execute_input": "2025-01-02T14:22:50.181571Z",
     "iopub.status.busy": "2025-01-02T14:22:50.181068Z",
     "iopub.status.idle": "2025-01-02T14:22:50.192362Z",
     "shell.execute_reply": "2025-01-02T14:22:50.191900Z"
    }
   },
   "outputs": [],
   "source": [
    "positions = pd.DataFrame({\n",
    "    'ticker':[x.symbol for x in portfolio],\n",
    "    'qty':[x.qty for x in portfolio],\n",
    "    'avg_entry_price':[x.avg_entry_price for x in portfolio],\n",
    "    'current_price':[x.current_price for x in portfolio],\n",
    "    'cost_basis':[x.cost_basis for x in portfolio],\n",
    "    'market_value':[x.market_value for x in portfolio],\n",
    "    'unrealized_pl':[x.unrealized_intraday_pl for x in portfolio],\n",
    "    'unrealized_plpc':[x.unrealized_plpc for x in portfolio]\n",
    "})\n",
    "positions['timestamp'] = datetime.now().strftime(\"%Y_%m_%d_%H_%M_%S\")\n",
    "positions.to_csv(file_name, index=False)"
   ]
  },
  {
   "cell_type": "code",
   "execution_count": 3,
   "id": "7f5ee574-b2d9-4892-85f3-d7d24381bc87",
   "metadata": {
    "execution": {
     "iopub.execute_input": "2025-01-02T14:22:50.194719Z",
     "iopub.status.busy": "2025-01-02T14:22:50.194543Z",
     "iopub.status.idle": "2025-01-02T14:22:50.287010Z",
     "shell.execute_reply": "2025-01-02T14:22:50.286409Z"
    }
   },
   "outputs": [],
   "source": [
    "account = pd.DataFrame(trading_client.get_account())\n",
    "account.iloc[0,0] = \"account_id\"\n",
    "account.iloc[1,1] = \"xxxxxxxxxx\""
   ]
  },
  {
   "cell_type": "code",
   "execution_count": 4,
   "id": "3842cc37-1a98-4314-a039-4baf2a722e5c",
   "metadata": {
    "execution": {
     "iopub.execute_input": "2025-01-02T14:22:50.290948Z",
     "iopub.status.busy": "2025-01-02T14:22:50.290679Z",
     "iopub.status.idle": "2025-01-02T14:22:50.294945Z",
     "shell.execute_reply": "2025-01-02T14:22:50.294312Z"
    }
   },
   "outputs": [],
   "source": [
    "account.to_csv(file_name2, index=False)"
   ]
  },
  {
   "cell_type": "code",
   "execution_count": null,
   "id": "64641637-e468-4c8b-b3cf-79f141f838ea",
   "metadata": {},
   "outputs": [],
   "source": []
  }
 ],
 "metadata": {
  "kernelspec": {
   "display_name": "Python 3 (ipykernel)",
   "language": "python",
   "name": "python3"
  },
  "language_info": {
   "codemirror_mode": {
    "name": "ipython",
    "version": 3
   },
   "file_extension": ".py",
   "mimetype": "text/x-python",
   "name": "python",
   "nbconvert_exporter": "python",
   "pygments_lexer": "ipython3",
   "version": "3.12.7"
  }
 },
 "nbformat": 4,
 "nbformat_minor": 5
}
