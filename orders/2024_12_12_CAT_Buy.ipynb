{
 "cells": [
  {
   "cell_type": "code",
   "execution_count": 1,
   "id": "b296aa1e-6bae-41e9-b24e-cc9fbce60e17",
   "metadata": {},
   "outputs": [
    {
     "name": "stdout",
     "output_type": "stream",
     "text": [
      "{\"id\":\"e31fc42a-79ae-481f-bc66-38e069657565\",\"client_order_id\":\"183f75e6-3ea1-40ed-9b45-69e61ca4289e\",\"created_at\":\"2024-12-12T16:25:56.638061036Z\",\"updated_at\":\"2024-12-12T16:25:56.639075286Z\",\"submitted_at\":\"2024-12-12T16:25:56.638061036Z\",\"filled_at\":null,\"expired_at\":null,\"canceled_at\":null,\"failed_at\":null,\"replaced_at\":null,\"replaced_by\":null,\"replaces\":null,\"asset_id\":\"e7535ed9-c182-41ef-80f6-ee08f4166b6c\",\"symbol\":\"CAT\",\"asset_class\":\"us_equity\",\"notional\":null,\"qty\":\"250\",\"filled_qty\":\"0\",\"filled_avg_price\":null,\"order_class\":\"bracket\",\"order_type\":\"market\",\"type\":\"market\",\"side\":\"buy\",\"position_intent\":\"buy_to_open\",\"time_in_force\":\"gtc\",\"limit_price\":null,\"stop_price\":null,\"status\":\"pending_new\",\"extended_hours\":false,\"legs\":[{\"id\":\"450c1a0e-eec8-41cc-bce5-d8265cf7cf40\",\"client_order_id\":\"ff528b33-c296-42c3-9105-2c4766b66583\",\"created_at\":\"2024-12-12T16:25:56.638061036Z\",\"updated_at\":\"2024-12-12T16:25:56.639034106Z\",\"submitted_at\":\"2024-12-12T16:25:56.638061036Z\",\"filled_at\":null,\"expired_at\":null,\"canceled_at\":null,\"failed_at\":null,\"replaced_at\":null,\"replaced_by\":null,\"replaces\":null,\"asset_id\":\"e7535ed9-c182-41ef-80f6-ee08f4166b6c\",\"symbol\":\"CAT\",\"asset_class\":\"us_equity\",\"notional\":null,\"qty\":\"250\",\"filled_qty\":\"0\",\"filled_avg_price\":null,\"order_class\":\"bracket\",\"order_type\":\"limit\",\"type\":\"limit\",\"side\":\"sell\",\"position_intent\":\"sell_to_close\",\"time_in_force\":\"gtc\",\"limit_price\":\"417\",\"stop_price\":null,\"status\":\"held\",\"extended_hours\":false,\"legs\":null,\"trail_percent\":null,\"trail_price\":null,\"hwm\":null,\"subtag\":null,\"source\":null,\"expires_at\":\"2025-03-12T20:00:00Z\"},{\"id\":\"19fb476c-f93a-44f6-b48a-5301f1b9e2fc\",\"client_order_id\":\"18294787-a026-4aad-8f24-b0dc5fa06d1b\",\"created_at\":\"2024-12-12T16:25:56.638061036Z\",\"updated_at\":\"2024-12-12T16:25:56.639053426Z\",\"submitted_at\":\"2024-12-12T16:25:56.638061036Z\",\"filled_at\":null,\"expired_at\":null,\"canceled_at\":null,\"failed_at\":null,\"replaced_at\":null,\"replaced_by\":null,\"replaces\":null,\"asset_id\":\"e7535ed9-c182-41ef-80f6-ee08f4166b6c\",\"symbol\":\"CAT\",\"asset_class\":\"us_equity\",\"notional\":null,\"qty\":\"250\",\"filled_qty\":\"0\",\"filled_avg_price\":null,\"order_class\":\"bracket\",\"order_type\":\"stop\",\"type\":\"stop\",\"side\":\"sell\",\"position_intent\":\"sell_to_close\",\"time_in_force\":\"gtc\",\"limit_price\":null,\"stop_price\":\"362.25\",\"status\":\"held\",\"extended_hours\":false,\"legs\":null,\"trail_percent\":null,\"trail_price\":null,\"hwm\":null,\"subtag\":null,\"source\":null,\"expires_at\":\"2025-03-12T20:00:00Z\"}],\"trail_percent\":null,\"trail_price\":null,\"hwm\":null,\"subtag\":null,\"source\":null,\"expires_at\":\"2025-03-12T20:00:00Z\"}\n"
     ]
    }
   ],
   "source": [
    "import requests\n",
    "import configparser\n",
    "\n",
    "# Read the config file\n",
    "config = configparser.ConfigParser()\n",
    "config.read(\"../alpaca.ini\")\n",
    "api = config['ALPACA']['api']\n",
    "secret = config['ALPACA']['secret']\n",
    "\n",
    "# Variables for the order\n",
    "\n",
    "symbol = \"CAT\"\n",
    "qty = 250\n",
    "stop_price = \"362.25\"\n",
    "take_profit = \"417\"\n",
    "\n",
    "\n",
    "\n",
    "url = \"https://paper-api.alpaca.markets/v2/orders\"\n",
    "\n",
    "payload = {\n",
    "    \"side\": \"buy\",\n",
    "    \"type\": \"market\",\n",
    "    \"time_in_force\": \"gtc\",\n",
    "    \"take_profit\": { \"limit_price\": take_profit },\n",
    "    \"stop_loss\": { \"stop_price\": stop_price },\n",
    "    \"symbol\": symbol,\n",
    "    \"qty\": qty,\n",
    "    \"order_class\": \"bracket\"\n",
    "}\n",
    "headers = {\n",
    "    \"accept\": \"application/json\",\n",
    "    \"content-type\": \"application/json\",\n",
    "    \"APCA-API-KEY-ID\": api,\n",
    "    \"APCA-API-SECRET-KEY\": secret\n",
    "}\n",
    "\n",
    "response = requests.post(url, json=payload, headers=headers)\n",
    "\n",
    "print(response.text)"
   ]
  },
  {
   "cell_type": "code",
   "execution_count": null,
   "id": "52a212b2-b119-4782-9126-e7c978c98342",
   "metadata": {},
   "outputs": [],
   "source": []
  }
 ],
 "metadata": {
  "kernelspec": {
   "display_name": "Python 3 (ipykernel)",
   "language": "python",
   "name": "python3"
  },
  "language_info": {
   "codemirror_mode": {
    "name": "ipython",
    "version": 3
   },
   "file_extension": ".py",
   "mimetype": "text/x-python",
   "name": "python",
   "nbconvert_exporter": "python",
   "pygments_lexer": "ipython3",
   "version": "3.12.7"
  }
 },
 "nbformat": 4,
 "nbformat_minor": 5
}
