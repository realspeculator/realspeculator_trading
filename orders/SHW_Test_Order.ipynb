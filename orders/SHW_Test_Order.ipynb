{
 "cells": [
  {
   "cell_type": "markdown",
   "id": "9d45ed2d-d226-4b77-bde2-e18ac509ebb9",
   "metadata": {},
   "source": [
    "### SHW Test order"
   ]
  },
  {
   "cell_type": "markdown",
   "id": "142390cd-84e7-4fa1-8112-1b1fe95bb6b8",
   "metadata": {},
   "source": [
    "We are going to test the Alpaca API to build an OCO order to buy SHW stock"
   ]
  },
  {
   "cell_type": "code",
   "execution_count": 3,
   "id": "71ef6d59-f370-4d97-bdd5-03463fc1f8e0",
   "metadata": {},
   "outputs": [
    {
     "name": "stdout",
     "output_type": "stream",
     "text": [
      "{\"id\":\"b18fad64-eb7b-4628-8051-12fccf1c6532\",\"client_order_id\":\"a23233dd-9582-45de-891b-2e64b04be6d5\",\"created_at\":\"2024-12-12T15:51:30.556301744Z\",\"updated_at\":\"2024-12-12T15:51:30.557113454Z\",\"submitted_at\":\"2024-12-12T15:51:30.556301744Z\",\"filled_at\":null,\"expired_at\":null,\"canceled_at\":null,\"failed_at\":null,\"replaced_at\":null,\"replaced_by\":null,\"replaces\":null,\"asset_id\":\"d2cb3472-a97f-4434-9736-c4ca7f82a67f\",\"symbol\":\"SHW\",\"asset_class\":\"us_equity\",\"notional\":null,\"qty\":\"100\",\"filled_qty\":\"0\",\"filled_avg_price\":null,\"order_class\":\"bracket\",\"order_type\":\"limit\",\"type\":\"limit\",\"side\":\"buy\",\"position_intent\":\"buy_to_open\",\"time_in_force\":\"gtc\",\"limit_price\":\"367.26\",\"stop_price\":null,\"status\":\"pending_new\",\"extended_hours\":false,\"legs\":[{\"id\":\"38dca7ce-5d38-416d-aebf-203bde92ae4e\",\"client_order_id\":\"f73aa3cb-319d-4087-88ab-c189a8d8d829\",\"created_at\":\"2024-12-12T15:51:30.556301744Z\",\"updated_at\":\"2024-12-12T15:51:30.557073544Z\",\"submitted_at\":\"2024-12-12T15:51:30.556301744Z\",\"filled_at\":null,\"expired_at\":null,\"canceled_at\":null,\"failed_at\":null,\"replaced_at\":null,\"replaced_by\":null,\"replaces\":null,\"asset_id\":\"d2cb3472-a97f-4434-9736-c4ca7f82a67f\",\"symbol\":\"SHW\",\"asset_class\":\"us_equity\",\"notional\":null,\"qty\":\"100\",\"filled_qty\":\"0\",\"filled_avg_price\":null,\"order_class\":\"bracket\",\"order_type\":\"limit\",\"type\":\"limit\",\"side\":\"sell\",\"position_intent\":\"sell_to_close\",\"time_in_force\":\"gtc\",\"limit_price\":\"400\",\"stop_price\":null,\"status\":\"held\",\"extended_hours\":false,\"legs\":null,\"trail_percent\":null,\"trail_price\":null,\"hwm\":null,\"subtag\":null,\"source\":null,\"expires_at\":\"2025-03-12T20:00:00Z\"},{\"id\":\"66629681-c146-44c2-bb09-fb68de844031\",\"client_order_id\":\"5f298adf-8c6d-44e2-93ce-5b66f2ec54b8\",\"created_at\":\"2024-12-12T15:51:30.556301744Z\",\"updated_at\":\"2024-12-12T15:51:30.557092954Z\",\"submitted_at\":\"2024-12-12T15:51:30.556301744Z\",\"filled_at\":null,\"expired_at\":null,\"canceled_at\":null,\"failed_at\":null,\"replaced_at\":null,\"replaced_by\":null,\"replaces\":null,\"asset_id\":\"d2cb3472-a97f-4434-9736-c4ca7f82a67f\",\"symbol\":\"SHW\",\"asset_class\":\"us_equity\",\"notional\":null,\"qty\":\"100\",\"filled_qty\":\"0\",\"filled_avg_price\":null,\"order_class\":\"bracket\",\"order_type\":\"stop\",\"type\":\"stop\",\"side\":\"sell\",\"position_intent\":\"sell_to_close\",\"time_in_force\":\"gtc\",\"limit_price\":null,\"stop_price\":\"365.77\",\"status\":\"held\",\"extended_hours\":false,\"legs\":null,\"trail_percent\":null,\"trail_price\":null,\"hwm\":null,\"subtag\":null,\"source\":null,\"expires_at\":\"2025-03-12T20:00:00Z\"}],\"trail_percent\":null,\"trail_price\":null,\"hwm\":null,\"subtag\":null,\"source\":null,\"expires_at\":\"2025-03-12T20:00:00Z\"}\n"
     ]
    }
   ],
   "source": [
    "import requests\n",
    "import configparser\n",
    "\n",
    "# Read the config file\n",
    "config = configparser.ConfigParser()\n",
    "config.read(\"../alpaca.ini\")\n",
    "api = config['ALPACA']['api']\n",
    "secret = config['ALPACA']['secret']"
   ]
  },
  {
   "cell_type": "code",
   "execution_count": null,
   "id": "f137c1d4-1f5a-4712-8fff-81ee1f0e169d",
   "metadata": {},
   "outputs": [],
   "source": [
    "url = \"https://paper-api.alpaca.markets/v2/orders\"\n",
    "\n",
    "payload = {\n",
    "    \"side\": \"buy\",\n",
    "    \"type\": \"limit\",\n",
    "    \"time_in_force\": \"gtc\",\n",
    "    \"take_profit\": { \"limit_price\": \"400\" },\n",
    "    \"stop_loss\": { \"stop_price\": \"365.77\" },\n",
    "    \"symbol\": \"SHW\",\n",
    "    \"qty\": \"100\",\n",
    "    \"limit_price\": \"367.26\",\n",
    "    \"order_class\": \"bracket\"\n",
    "}\n",
    "headers = {\n",
    "    \"accept\": \"application/json\",\n",
    "    \"content-type\": \"application/json\",\n",
    "    \"APCA-API-KEY-ID\": api,\n",
    "    \"APCA-API-SECRET-KEY\": secret\n",
    "}\n",
    "\n",
    "response = requests.post(url, json=payload, headers=headers)\n",
    "\n",
    "print(response.text)"
   ]
  },
  {
   "cell_type": "code",
   "execution_count": null,
   "id": "6907db93-c053-45a3-8802-701287282972",
   "metadata": {},
   "outputs": [],
   "source": []
  }
 ],
 "metadata": {
  "kernelspec": {
   "display_name": "Python 3 (ipykernel)",
   "language": "python",
   "name": "python3"
  },
  "language_info": {
   "codemirror_mode": {
    "name": "ipython",
    "version": 3
   },
   "file_extension": ".py",
   "mimetype": "text/x-python",
   "name": "python",
   "nbconvert_exporter": "python",
   "pygments_lexer": "ipython3",
   "version": "3.12.7"
  }
 },
 "nbformat": 4,
 "nbformat_minor": 5
}
