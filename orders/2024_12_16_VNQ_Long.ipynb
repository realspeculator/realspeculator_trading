{
 "cells": [
  {
   "cell_type": "code",
   "execution_count": 1,
   "id": "537f1423-62ae-42b3-9c51-9b43fa1fac3b",
   "metadata": {},
   "outputs": [
    {
     "name": "stdout",
     "output_type": "stream",
     "text": [
      "{\"id\":\"74839c85-f7f9-4b21-a682-6d555f17dc0e\",\"client_order_id\":\"3163227c-79c9-4ef5-b8da-97197e6bd48f\",\"created_at\":\"2024-12-16T14:57:06.728474785Z\",\"updated_at\":\"2024-12-16T14:57:06.729845364Z\",\"submitted_at\":\"2024-12-16T14:57:06.728474785Z\",\"filled_at\":null,\"expired_at\":null,\"canceled_at\":null,\"failed_at\":null,\"replaced_at\":null,\"replaced_by\":null,\"replaces\":null,\"asset_id\":\"9f45f86e-282a-4d47-9d6c-b0ff18fa32c6\",\"symbol\":\"VNQ\",\"asset_class\":\"us_equity\",\"notional\":null,\"qty\":\"1500\",\"filled_qty\":\"0\",\"filled_avg_price\":null,\"order_class\":\"bracket\",\"order_type\":\"market\",\"type\":\"market\",\"side\":\"buy\",\"position_intent\":\"buy_to_open\",\"time_in_force\":\"gtc\",\"limit_price\":null,\"stop_price\":null,\"status\":\"pending_new\",\"extended_hours\":false,\"legs\":[{\"id\":\"96ae005a-6cad-4181-9ddd-9febc7fda197\",\"client_order_id\":\"adfa9d43-cdc7-4703-8b10-7252e560941b\",\"created_at\":\"2024-12-16T14:57:06.728474785Z\",\"updated_at\":\"2024-12-16T14:57:06.729803744Z\",\"submitted_at\":\"2024-12-16T14:57:06.728474785Z\",\"filled_at\":null,\"expired_at\":null,\"canceled_at\":null,\"failed_at\":null,\"replaced_at\":null,\"replaced_by\":null,\"replaces\":null,\"asset_id\":\"9f45f86e-282a-4d47-9d6c-b0ff18fa32c6\",\"symbol\":\"VNQ\",\"asset_class\":\"us_equity\",\"notional\":null,\"qty\":\"1500\",\"filled_qty\":\"0\",\"filled_avg_price\":null,\"order_class\":\"bracket\",\"order_type\":\"limit\",\"type\":\"limit\",\"side\":\"sell\",\"position_intent\":\"sell_to_close\",\"time_in_force\":\"gtc\",\"limit_price\":\"115.42\",\"stop_price\":null,\"status\":\"held\",\"extended_hours\":false,\"legs\":null,\"trail_percent\":null,\"trail_price\":null,\"hwm\":null,\"subtag\":null,\"source\":null,\"expires_at\":\"2025-03-14T20:00:00Z\"},{\"id\":\"eab7c7eb-a0fa-4b7c-adf3-01b5c57ad9d4\",\"client_order_id\":\"3c1b6b2c-8030-42ed-b378-b52919924322\",\"created_at\":\"2024-12-16T14:57:06.728474785Z\",\"updated_at\":\"2024-12-16T14:57:06.729822394Z\",\"submitted_at\":\"2024-12-16T14:57:06.728474785Z\",\"filled_at\":null,\"expired_at\":null,\"canceled_at\":null,\"failed_at\":null,\"replaced_at\":null,\"replaced_by\":null,\"replaces\":null,\"asset_id\":\"9f45f86e-282a-4d47-9d6c-b0ff18fa32c6\",\"symbol\":\"VNQ\",\"asset_class\":\"us_equity\",\"notional\":null,\"qty\":\"1500\",\"filled_qty\":\"0\",\"filled_avg_price\":null,\"order_class\":\"bracket\",\"order_type\":\"stop\",\"type\":\"stop\",\"side\":\"sell\",\"position_intent\":\"sell_to_close\",\"time_in_force\":\"gtc\",\"limit_price\":null,\"stop_price\":\"91.19\",\"status\":\"held\",\"extended_hours\":false,\"legs\":null,\"trail_percent\":null,\"trail_price\":null,\"hwm\":null,\"subtag\":null,\"source\":null,\"expires_at\":\"2025-03-14T20:00:00Z\"}],\"trail_percent\":null,\"trail_price\":null,\"hwm\":null,\"subtag\":null,\"source\":null,\"expires_at\":\"2025-03-14T20:00:00Z\"}\n"
     ]
    }
   ],
   "source": [
    "import requests\n",
    "import configparser\n",
    "\n",
    "# Read the config file\n",
    "config = configparser.ConfigParser()\n",
    "config.read(\"../alpaca.ini\")\n",
    "api = config['ALPACA']['api']\n",
    "secret = config['ALPACA']['secret']\n",
    "\n",
    "# Variables for the order\n",
    "\n",
    "symbol = \"VNQ\"\n",
    "qty = 1500\n",
    "stop_price = \"91.19\"\n",
    "take_profit = \"115.42\"\n",
    "\n",
    "\n",
    "\n",
    "url = \"https://paper-api.alpaca.markets/v2/orders\"\n",
    "\n",
    "payload = {\n",
    "    \"side\": \"buy\",\n",
    "    \"type\": \"market\",\n",
    "    \"time_in_force\": \"gtc\",\n",
    "    \"take_profit\": { \"limit_price\": take_profit },\n",
    "    \"stop_loss\": { \"stop_price\": stop_price },\n",
    "    \"symbol\": symbol,\n",
    "    \"qty\": qty,\n",
    "    \"order_class\": \"bracket\"\n",
    "}\n",
    "headers = {\n",
    "    \"accept\": \"application/json\",\n",
    "    \"content-type\": \"application/json\",\n",
    "    \"APCA-API-KEY-ID\": api,\n",
    "    \"APCA-API-SECRET-KEY\": secret\n",
    "}\n",
    "\n",
    "response = requests.post(url, json=payload, headers=headers)\n",
    "\n",
    "print(response.text)"
   ]
  },
  {
   "cell_type": "markdown",
   "id": "cdefd76e-ae6a-4e9b-a331-2eff4c6b80ae",
   "metadata": {},
   "source": [
    "<img src=\"https://www.tradingview.com/x/7LaTEGd1/\">"
   ]
  },
  {
   "cell_type": "code",
   "execution_count": null,
   "id": "f510d9cc-4fdd-4d7b-af6c-afb1fd6b4457",
   "metadata": {},
   "outputs": [],
   "source": []
  }
 ],
 "metadata": {
  "kernelspec": {
   "display_name": "Python 3 (ipykernel)",
   "language": "python",
   "name": "python3"
  },
  "language_info": {
   "codemirror_mode": {
    "name": "ipython",
    "version": 3
   },
   "file_extension": ".py",
   "mimetype": "text/x-python",
   "name": "python",
   "nbconvert_exporter": "python",
   "pygments_lexer": "ipython3",
   "version": "3.12.7"
  }
 },
 "nbformat": 4,
 "nbformat_minor": 5
}
