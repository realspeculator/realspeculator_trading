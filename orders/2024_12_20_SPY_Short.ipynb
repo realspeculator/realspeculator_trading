{
 "cells": [
  {
   "cell_type": "code",
   "execution_count": 1,
   "id": "f104b29b-ba09-46a7-a62d-ca2ddcc3da27",
   "metadata": {},
   "outputs": [
    {
     "name": "stdout",
     "output_type": "stream",
     "text": [
      "{\"id\":\"b3ae45a6-afa5-471a-8dbf-70951a1b65c5\",\"client_order_id\":\"3bce5f15-b0b6-4bf6-8511-164ce4d43079\",\"created_at\":\"2024-12-20T16:34:41.249023539Z\",\"updated_at\":\"2024-12-20T16:34:41.250974139Z\",\"submitted_at\":\"2024-12-20T16:34:41.249023539Z\",\"filled_at\":null,\"expired_at\":null,\"canceled_at\":null,\"failed_at\":null,\"replaced_at\":null,\"replaced_by\":null,\"replaces\":null,\"asset_id\":\"b28f4066-5c6d-479b-a2af-85dc1a8f16fb\",\"symbol\":\"SPY\",\"asset_class\":\"us_equity\",\"notional\":null,\"qty\":\"600\",\"filled_qty\":\"0\",\"filled_avg_price\":null,\"order_class\":\"bracket\",\"order_type\":\"market\",\"type\":\"market\",\"side\":\"sell\",\"position_intent\":\"sell_to_open\",\"time_in_force\":\"gtc\",\"limit_price\":null,\"stop_price\":null,\"status\":\"pending_new\",\"extended_hours\":false,\"legs\":[{\"id\":\"76fd238c-4f82-4492-8806-3186b7b61d67\",\"client_order_id\":\"b5facfa5-fcf3-454b-a411-bb819d3dcef6\",\"created_at\":\"2024-12-20T16:34:41.249023539Z\",\"updated_at\":\"2024-12-20T16:34:41.250936649Z\",\"submitted_at\":\"2024-12-20T16:34:41.249023539Z\",\"filled_at\":null,\"expired_at\":null,\"canceled_at\":null,\"failed_at\":null,\"replaced_at\":null,\"replaced_by\":null,\"replaces\":null,\"asset_id\":\"b28f4066-5c6d-479b-a2af-85dc1a8f16fb\",\"symbol\":\"SPY\",\"asset_class\":\"us_equity\",\"notional\":null,\"qty\":\"600\",\"filled_qty\":\"0\",\"filled_avg_price\":null,\"order_class\":\"bracket\",\"order_type\":\"limit\",\"type\":\"limit\",\"side\":\"buy\",\"position_intent\":\"buy_to_close\",\"time_in_force\":\"gtc\",\"limit_price\":\"480\",\"stop_price\":null,\"status\":\"held\",\"extended_hours\":false,\"legs\":null,\"trail_percent\":null,\"trail_price\":null,\"hwm\":null,\"subtag\":null,\"source\":null,\"expires_at\":\"2025-03-20T20:00:00Z\"},{\"id\":\"14e57528-45db-42ec-ab25-223d7f71b167\",\"client_order_id\":\"daa478b6-759f-42ed-9158-46bba28551a2\",\"created_at\":\"2024-12-20T16:34:41.249023539Z\",\"updated_at\":\"2024-12-20T16:34:41.250954739Z\",\"submitted_at\":\"2024-12-20T16:34:41.249023539Z\",\"filled_at\":null,\"expired_at\":null,\"canceled_at\":null,\"failed_at\":null,\"replaced_at\":null,\"replaced_by\":null,\"replaces\":null,\"asset_id\":\"b28f4066-5c6d-479b-a2af-85dc1a8f16fb\",\"symbol\":\"SPY\",\"asset_class\":\"us_equity\",\"notional\":null,\"qty\":\"600\",\"filled_qty\":\"0\",\"filled_avg_price\":null,\"order_class\":\"bracket\",\"order_type\":\"stop\",\"type\":\"stop\",\"side\":\"buy\",\"position_intent\":\"buy_to_close\",\"time_in_force\":\"gtc\",\"limit_price\":null,\"stop_price\":\"608\",\"status\":\"held\",\"extended_hours\":false,\"legs\":null,\"trail_percent\":null,\"trail_price\":null,\"hwm\":null,\"subtag\":null,\"source\":null,\"expires_at\":\"2025-03-20T20:00:00Z\"}],\"trail_percent\":null,\"trail_price\":null,\"hwm\":null,\"subtag\":null,\"source\":null,\"expires_at\":\"2025-03-20T20:00:00Z\"}\n"
     ]
    }
   ],
   "source": [
    "import json\n",
    "import requests\n",
    "import configparser\n",
    "\n",
    "# Read the config file\n",
    "config = configparser.ConfigParser()\n",
    "config.read(\"../alpaca.ini\")\n",
    "api = config['ALPACA']['api']\n",
    "secret = config['ALPACA']['secret']\n",
    "\n",
    "# Variables for the order\n",
    "\n",
    "symbol = \"SPY\"\n",
    "qty = 600\n",
    "stop_price = \"608\"\n",
    "take_profit = \"480\"\n",
    "\n",
    "\n",
    "url = \"https://paper-api.alpaca.markets/v2/orders\"\n",
    "\n",
    "payload = {\n",
    "    \"side\": \"sell\",\n",
    "    \"type\": \"market\",\n",
    "    \"time_in_force\": \"gtc\",\n",
    "    \"take_profit\": { \"limit_price\": take_profit },\n",
    "    \"stop_loss\": { \"stop_price\": stop_price },\n",
    "    \"symbol\": symbol,\n",
    "    \"qty\": qty,\n",
    "    \"order_class\": \"bracket\"\n",
    "}\n",
    "headers = {\n",
    "    \"accept\": \"application/json\",\n",
    "    \"content-type\": \"application/json\",\n",
    "    \"APCA-API-KEY-ID\": api,\n",
    "    \"APCA-API-SECRET-KEY\": secret\n",
    "}\n",
    "\n",
    "response = requests.post(url, json=payload, headers=headers)\n",
    "\n",
    "print(response.text)"
   ]
  },
  {
   "cell_type": "code",
   "execution_count": null,
   "id": "08da294c-e28b-4052-a510-9908eaf96299",
   "metadata": {},
   "outputs": [],
   "source": []
  }
 ],
 "metadata": {
  "kernelspec": {
   "display_name": "Python 3 (ipykernel)",
   "language": "python",
   "name": "python3"
  },
  "language_info": {
   "codemirror_mode": {
    "name": "ipython",
    "version": 3
   },
   "file_extension": ".py",
   "mimetype": "text/x-python",
   "name": "python",
   "nbconvert_exporter": "python",
   "pygments_lexer": "ipython3",
   "version": "3.12.7"
  }
 },
 "nbformat": 4,
 "nbformat_minor": 5
}
