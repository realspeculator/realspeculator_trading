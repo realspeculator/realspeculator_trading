{
 "cells": [
  {
   "cell_type": "code",
   "execution_count": 1,
   "id": "33d7e751-a3e5-4a0c-9602-e1b2bb0afa4c",
   "metadata": {},
   "outputs": [
    {
     "name": "stdout",
     "output_type": "stream",
     "text": [
      "{\"id\":\"45ad00d3-0811-40e4-8fd1-d850d8203ecc\",\"client_order_id\":\"038295d4-ac63-41e1-9139-aaf4a68488b9\",\"created_at\":\"2024-12-18T15:18:11.467619198Z\",\"updated_at\":\"2024-12-18T15:18:11.469287318Z\",\"submitted_at\":\"2024-12-18T15:18:11.467619198Z\",\"filled_at\":null,\"expired_at\":null,\"canceled_at\":null,\"failed_at\":null,\"replaced_at\":null,\"replaced_by\":null,\"replaces\":null,\"asset_id\":\"c8899fc1-c3b2-411c-a940-4b9380a09b84\",\"symbol\":\"WBD\",\"asset_class\":\"us_equity\",\"notional\":null,\"qty\":\"2500\",\"filled_qty\":\"0\",\"filled_avg_price\":null,\"order_class\":\"bracket\",\"order_type\":\"market\",\"type\":\"market\",\"side\":\"buy\",\"position_intent\":\"buy_to_open\",\"time_in_force\":\"gtc\",\"limit_price\":null,\"stop_price\":null,\"status\":\"pending_new\",\"extended_hours\":false,\"legs\":[{\"id\":\"2c05f7ce-f656-43d9-b00c-e3ee862cfc39\",\"client_order_id\":\"c13a0da3-a04f-4f4a-920a-f46a7342141d\",\"created_at\":\"2024-12-18T15:18:11.467619198Z\",\"updated_at\":\"2024-12-18T15:18:11.469236058Z\",\"submitted_at\":\"2024-12-18T15:18:11.467619198Z\",\"filled_at\":null,\"expired_at\":null,\"canceled_at\":null,\"failed_at\":null,\"replaced_at\":null,\"replaced_by\":null,\"replaces\":null,\"asset_id\":\"c8899fc1-c3b2-411c-a940-4b9380a09b84\",\"symbol\":\"WBD\",\"asset_class\":\"us_equity\",\"notional\":null,\"qty\":\"2500\",\"filled_qty\":\"0\",\"filled_avg_price\":null,\"order_class\":\"bracket\",\"order_type\":\"limit\",\"type\":\"limit\",\"side\":\"sell\",\"position_intent\":\"sell_to_close\",\"time_in_force\":\"gtc\",\"limit_price\":\"16.45\",\"stop_price\":null,\"status\":\"held\",\"extended_hours\":false,\"legs\":null,\"trail_percent\":null,\"trail_price\":null,\"hwm\":null,\"subtag\":null,\"source\":null,\"expires_at\":\"2025-03-18T20:00:00Z\"},{\"id\":\"ebab58be-5022-47a9-bdc7-cd9bfb7aea3c\",\"client_order_id\":\"48e39e18-1c0a-4122-a2cc-8eca1235ca4d\",\"created_at\":\"2024-12-18T15:18:11.467619198Z\",\"updated_at\":\"2024-12-18T15:18:11.469256568Z\",\"submitted_at\":\"2024-12-18T15:18:11.467619198Z\",\"filled_at\":null,\"expired_at\":null,\"canceled_at\":null,\"failed_at\":null,\"replaced_at\":null,\"replaced_by\":null,\"replaces\":null,\"asset_id\":\"c8899fc1-c3b2-411c-a940-4b9380a09b84\",\"symbol\":\"WBD\",\"asset_class\":\"us_equity\",\"notional\":null,\"qty\":\"2500\",\"filled_qty\":\"0\",\"filled_avg_price\":null,\"order_class\":\"bracket\",\"order_type\":\"stop\",\"type\":\"stop\",\"side\":\"sell\",\"position_intent\":\"sell_to_close\",\"time_in_force\":\"gtc\",\"limit_price\":null,\"stop_price\":\"9.22\",\"status\":\"held\",\"extended_hours\":false,\"legs\":null,\"trail_percent\":null,\"trail_price\":null,\"hwm\":null,\"subtag\":null,\"source\":null,\"expires_at\":\"2025-03-18T20:00:00Z\"}],\"trail_percent\":null,\"trail_price\":null,\"hwm\":null,\"subtag\":null,\"source\":null,\"expires_at\":\"2025-03-18T20:00:00Z\"}\n"
     ]
    }
   ],
   "source": [
    "import json\n",
    "import requests\n",
    "import configparser\n",
    "\n",
    "# Read the config file\n",
    "config = configparser.ConfigParser()\n",
    "config.read(\"../alpaca.ini\")\n",
    "api = config['ALPACA']['api']\n",
    "secret = config['ALPACA']['secret']\n",
    "\n",
    "# Variables for the order\n",
    "\n",
    "symbol = \"WBD\"\n",
    "qty = 2500\n",
    "stop_price = \"9.22\"\n",
    "take_profit = \"16.45\"\n",
    "\n",
    "\n",
    "\n",
    "url = \"https://paper-api.alpaca.markets/v2/orders\"\n",
    "\n",
    "payload = {\n",
    "    \"side\": \"buy\",\n",
    "    \"type\": \"market\",\n",
    "    \"time_in_force\": \"gtc\",\n",
    "    \"take_profit\": { \"limit_price\": take_profit },\n",
    "    \"stop_loss\": { \"stop_price\": stop_price },\n",
    "    \"symbol\": symbol,\n",
    "    \"qty\": qty,\n",
    "    \"order_class\": \"bracket\"\n",
    "}\n",
    "headers = {\n",
    "    \"accept\": \"application/json\",\n",
    "    \"content-type\": \"application/json\",\n",
    "    \"APCA-API-KEY-ID\": api,\n",
    "    \"APCA-API-SECRET-KEY\": secret\n",
    "}\n",
    "\n",
    "response = requests.post(url, json=payload, headers=headers)\n",
    "\n",
    "print(response.text)\n"
   ]
  }
 ],
 "metadata": {
  "kernelspec": {
   "display_name": "Python 3 (ipykernel)",
   "language": "python",
   "name": "python3"
  },
  "language_info": {
   "codemirror_mode": {
    "name": "ipython",
    "version": 3
   },
   "file_extension": ".py",
   "mimetype": "text/x-python",
   "name": "python",
   "nbconvert_exporter": "python",
   "pygments_lexer": "ipython3",
   "version": "3.12.7"
  }
 },
 "nbformat": 4,
 "nbformat_minor": 5
}
