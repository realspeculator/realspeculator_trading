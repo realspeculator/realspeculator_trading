{
 "cells": [
  {
   "cell_type": "code",
   "execution_count": 7,
   "id": "cf46247a-a67e-4c62-91af-e2ffddcd9d02",
   "metadata": {},
   "outputs": [
    {
     "name": "stdout",
     "output_type": "stream",
     "text": [
      "{\"code\":40010000,\"message\":\"request body format is invalid\"}\n"
     ]
    }
   ],
   "source": [
    "import requests\n",
    "import configparser\n",
    "\n",
    "# Read the config file\n",
    "config = configparser.ConfigParser()\n",
    "config.read(\"../alpaca.ini\")\n",
    "api = config['ALPACA']['api']\n",
    "secret = config['ALPACA']['secret']\n",
    "\n",
    "# Variables for the order\n",
    "\n",
    "symbol = \"AAPL\"\n",
    "qty = 1\n",
    "stop_price = \"20\"\n",
    "take_profit = \"\"\n",
    "\n",
    "\n",
    "\n",
    "url = \"https://paper-api.alpaca.markets/v2/orders\"\n",
    "\n",
    "payload = {\n",
    "    \"side\": \"buy\",\n",
    "    \"type\": \"market\",\n",
    "    \"time_in_force\": \"gtc\",\n",
    "    \"take_profit\": { \"limit_price\": take_profit },\n",
    "    \"stop_loss\": { \"stop_price\": stop_price },\n",
    "    \"symbol\": symbol,\n",
    "    \"qty\": qty,\n",
    "    \"order_class\": \"bracket\"\n",
    "}\n",
    "headers = {\n",
    "    \"accept\": \"application/json\",\n",
    "    \"content-type\": \"application/json\",\n",
    "    \"APCA-API-KEY-ID\": api,\n",
    "    \"APCA-API-SECRET-KEY\": secret\n",
    "}\n",
    "\n",
    "response = requests.post(url, json=payload, headers=headers)\n",
    "\n",
    "print(response.text)"
   ]
  },
  {
   "cell_type": "code",
   "execution_count": null,
   "id": "1ba3cd2f-b87a-4139-aa51-784d00fd306e",
   "metadata": {},
   "outputs": [],
   "source": []
  }
 ],
 "metadata": {
  "kernelspec": {
   "display_name": "Python 3 (ipykernel)",
   "language": "python",
   "name": "python3"
  },
  "language_info": {
   "codemirror_mode": {
    "name": "ipython",
    "version": 3
   },
   "file_extension": ".py",
   "mimetype": "text/x-python",
   "name": "python",
   "nbconvert_exporter": "python",
   "pygments_lexer": "ipython3",
   "version": "3.12.7"
  }
 },
 "nbformat": 4,
 "nbformat_minor": 5
}
