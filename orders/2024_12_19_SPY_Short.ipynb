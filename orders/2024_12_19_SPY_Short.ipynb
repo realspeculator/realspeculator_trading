{
 "cells": [
  {
   "cell_type": "code",
   "execution_count": 1,
   "id": "e034084d-8a4f-4ae9-b50f-8e8fb5324122",
   "metadata": {},
   "outputs": [
    {
     "name": "stdout",
     "output_type": "stream",
     "text": [
      "{\"id\":\"23f6a91d-a367-4789-9082-fbb1f723ff7e\",\"client_order_id\":\"40b7b580-b64c-4d4e-acbf-7d9fbb0db704\",\"created_at\":\"2024-12-19T15:16:58.004872418Z\",\"updated_at\":\"2024-12-19T15:16:58.006522268Z\",\"submitted_at\":\"2024-12-19T15:16:58.004872418Z\",\"filled_at\":null,\"expired_at\":null,\"canceled_at\":null,\"failed_at\":null,\"replaced_at\":null,\"replaced_by\":null,\"replaces\":null,\"asset_id\":\"b28f4066-5c6d-479b-a2af-85dc1a8f16fb\",\"symbol\":\"SPY\",\"asset_class\":\"us_equity\",\"notional\":null,\"qty\":\"600\",\"filled_qty\":\"0\",\"filled_avg_price\":null,\"order_class\":\"bracket\",\"order_type\":\"market\",\"type\":\"market\",\"side\":\"sell\",\"position_intent\":\"sell_to_open\",\"time_in_force\":\"gtc\",\"limit_price\":null,\"stop_price\":null,\"status\":\"pending_new\",\"extended_hours\":false,\"legs\":[{\"id\":\"a8ba4526-9b23-45ca-9e52-0b6985302891\",\"client_order_id\":\"3c7afff9-729d-49ba-94c5-fc91c4561430\",\"created_at\":\"2024-12-19T15:16:58.004872418Z\",\"updated_at\":\"2024-12-19T15:16:58.006485658Z\",\"submitted_at\":\"2024-12-19T15:16:58.004872418Z\",\"filled_at\":null,\"expired_at\":null,\"canceled_at\":null,\"failed_at\":null,\"replaced_at\":null,\"replaced_by\":null,\"replaces\":null,\"asset_id\":\"b28f4066-5c6d-479b-a2af-85dc1a8f16fb\",\"symbol\":\"SPY\",\"asset_class\":\"us_equity\",\"notional\":null,\"qty\":\"600\",\"filled_qty\":\"0\",\"filled_avg_price\":null,\"order_class\":\"bracket\",\"order_type\":\"limit\",\"type\":\"limit\",\"side\":\"buy\",\"position_intent\":\"buy_to_close\",\"time_in_force\":\"gtc\",\"limit_price\":\"480\",\"stop_price\":null,\"status\":\"held\",\"extended_hours\":false,\"legs\":null,\"trail_percent\":null,\"trail_price\":null,\"hwm\":null,\"subtag\":null,\"source\":null,\"expires_at\":\"2025-03-19T20:00:00Z\"},{\"id\":\"a2aea654-57c0-46ab-b2a0-5e16457d5286\",\"client_order_id\":\"e9f329e3-425c-43a6-9c4a-cb1ffa431cbf\",\"created_at\":\"2024-12-19T15:16:58.004872418Z\",\"updated_at\":\"2024-12-19T15:16:58.006503658Z\",\"submitted_at\":\"2024-12-19T15:16:58.004872418Z\",\"filled_at\":null,\"expired_at\":null,\"canceled_at\":null,\"failed_at\":null,\"replaced_at\":null,\"replaced_by\":null,\"replaces\":null,\"asset_id\":\"b28f4066-5c6d-479b-a2af-85dc1a8f16fb\",\"symbol\":\"SPY\",\"asset_class\":\"us_equity\",\"notional\":null,\"qty\":\"600\",\"filled_qty\":\"0\",\"filled_avg_price\":null,\"order_class\":\"bracket\",\"order_type\":\"stop\",\"type\":\"stop\",\"side\":\"buy\",\"position_intent\":\"buy_to_close\",\"time_in_force\":\"gtc\",\"limit_price\":null,\"stop_price\":\"608\",\"status\":\"held\",\"extended_hours\":false,\"legs\":null,\"trail_percent\":null,\"trail_price\":null,\"hwm\":null,\"subtag\":null,\"source\":null,\"expires_at\":\"2025-03-19T20:00:00Z\"}],\"trail_percent\":null,\"trail_price\":null,\"hwm\":null,\"subtag\":null,\"source\":null,\"expires_at\":\"2025-03-19T20:00:00Z\"}\n"
     ]
    }
   ],
   "source": [
    "import json\n",
    "import requests\n",
    "import configparser\n",
    "\n",
    "# Read the config file\n",
    "config = configparser.ConfigParser()\n",
    "config.read(\"../alpaca.ini\")\n",
    "api = config['ALPACA']['api']\n",
    "secret = config['ALPACA']['secret']\n",
    "\n",
    "# Variables for the order\n",
    "\n",
    "symbol = \"SPY\"\n",
    "qty = 600\n",
    "stop_price = \"608\"\n",
    "take_profit = \"480\"\n",
    "\n",
    "\n",
    "url = \"https://paper-api.alpaca.markets/v2/orders\"\n",
    "\n",
    "payload = {\n",
    "    \"side\": \"sell\",\n",
    "    \"type\": \"market\",\n",
    "    \"time_in_force\": \"gtc\",\n",
    "    \"take_profit\": { \"limit_price\": take_profit },\n",
    "    \"stop_loss\": { \"stop_price\": stop_price },\n",
    "    \"symbol\": symbol,\n",
    "    \"qty\": qty,\n",
    "    \"order_class\": \"bracket\"\n",
    "}\n",
    "headers = {\n",
    "    \"accept\": \"application/json\",\n",
    "    \"content-type\": \"application/json\",\n",
    "    \"APCA-API-KEY-ID\": api,\n",
    "    \"APCA-API-SECRET-KEY\": secret\n",
    "}\n",
    "\n",
    "response = requests.post(url, json=payload, headers=headers)\n",
    "\n",
    "print(response.text)\n"
   ]
  },
  {
   "cell_type": "code",
   "execution_count": null,
   "id": "2910d828-7ff7-4b51-a417-4c450e54129e",
   "metadata": {},
   "outputs": [],
   "source": []
  }
 ],
 "metadata": {
  "kernelspec": {
   "display_name": "Python 3 (ipykernel)",
   "language": "python",
   "name": "python3"
  },
  "language_info": {
   "codemirror_mode": {
    "name": "ipython",
    "version": 3
   },
   "file_extension": ".py",
   "mimetype": "text/x-python",
   "name": "python",
   "nbconvert_exporter": "python",
   "pygments_lexer": "ipython3",
   "version": "3.12.7"
  }
 },
 "nbformat": 4,
 "nbformat_minor": 5
}
