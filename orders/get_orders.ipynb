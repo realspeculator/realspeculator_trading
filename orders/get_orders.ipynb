{
 "cells": [
  {
   "cell_type": "code",
   "execution_count": 1,
   "id": "249dced0-fd4f-45fb-9daa-67947e1b54f9",
   "metadata": {
    "execution": {
     "iopub.execute_input": "2024-12-11T18:40:53.746508Z",
     "iopub.status.busy": "2024-12-11T18:40:53.746102Z",
     "iopub.status.idle": "2024-12-11T18:40:54.136492Z",
     "shell.execute_reply": "2024-12-11T18:40:54.136197Z"
    }
   },
   "outputs": [],
   "source": [
    "from alpaca.trading.client import TradingClient\n",
    "from alpaca.trading.requests import GetOrdersRequest\n",
    "from alpaca.trading.enums import QueryOrderStatus\n",
    "from datetime import datetime\n",
    "import pandas as pd\n",
    "import configparser\n",
    "\n",
    "\n",
    "# Read the config file\n",
    "config = configparser.ConfigParser()\n",
    "config.read(\"../alpaca.ini\")\n",
    "api = config['ALPACA']['api']\n",
    "secret = config['ALPACA']['secret']\n",
    "\n",
    "\n",
    "file_name = datetime.now().strftime(\"%Y_%m_%d_%H_%M_%S\") + (\"_order_history.csv\")\n",
    "file_name = \"orders_data/\" + file_name"
   ]
  },
  {
   "cell_type": "code",
   "execution_count": 2,
   "id": "6daf9510-6a01-4391-bec1-5360bdfa6cba",
   "metadata": {
    "execution": {
     "iopub.execute_input": "2024-12-11T18:40:54.138203Z",
     "iopub.status.busy": "2024-12-11T18:40:54.138039Z",
     "iopub.status.idle": "2024-12-11T18:40:54.245862Z",
     "shell.execute_reply": "2024-12-11T18:40:54.245406Z"
    }
   },
   "outputs": [],
   "source": [
    "trading_client = TradingClient(api, secret)\n",
    "\n",
    "# Get the last 100 closed orders\n",
    "get_orders_data = GetOrdersRequest(\n",
    "    status=QueryOrderStatus.ALL,\n",
    "    limit=10000,\n",
    "    nested=True  # show nested multi-leg orders\n",
    ")\n",
    "\n",
    "all_orders = trading_client.get_orders(filter=get_orders_data)\n",
    "\n",
    "all_orders_df = pd.DataFrame({\n",
    "    'ticker':[x.symbol for x in all_orders],\n",
    "    'side':[x.side for x in all_orders],\n",
    "    'filled_qty':[x.filled_qty for x in all_orders],\n",
    "    'filled_avg_price':[x.filled_avg_price for x in all_orders],\n",
    "    'limit_price':[x.limit_price for x in all_orders],\n",
    "    'order_type':[x.order_type for x in all_orders],\n",
    "    'status':[x.status for x in all_orders],\n",
    "    'stop_price':[x.stop_price for x in all_orders],\n",
    "    'created_at':[x.created_at for x in all_orders],\n",
    "    'filled_at':[x.filled_at for x in all_orders],\n",
    "    'client_order_id':[x.client_order_id for x in all_orders]\n",
    "})"
   ]
  },
  {
   "cell_type": "code",
   "execution_count": 3,
   "id": "697c9a1c-6cdf-41ae-bd47-1eb791597cc2",
   "metadata": {
    "execution": {
     "iopub.execute_input": "2024-12-11T18:40:54.247353Z",
     "iopub.status.busy": "2024-12-11T18:40:54.247270Z",
     "iopub.status.idle": "2024-12-11T18:40:54.250124Z",
     "shell.execute_reply": "2024-12-11T18:40:54.249862Z"
    }
   },
   "outputs": [],
   "source": [
    "all_orders_df.to_csv(file_name, index = False)"
   ]
  },
  {
   "cell_type": "code",
   "execution_count": 4,
   "id": "e0d5b965-bd95-4dfb-acee-ed3ebd4f5c95",
   "metadata": {
    "execution": {
     "iopub.execute_input": "2024-12-11T18:40:54.251562Z",
     "iopub.status.busy": "2024-12-11T18:40:54.251490Z",
     "iopub.status.idle": "2024-12-11T18:40:54.253928Z",
     "shell.execute_reply": "2024-12-11T18:40:54.253690Z"
    }
   },
   "outputs": [
    {
     "data": {
      "text/plain": [
       "[]"
      ]
     },
     "execution_count": 4,
     "metadata": {},
     "output_type": "execute_result"
    }
   ],
   "source": [
    "all_orders"
   ]
  },
  {
   "cell_type": "code",
   "execution_count": null,
   "id": "f15d370a-27b2-487e-9f27-29c6945fdd68",
   "metadata": {},
   "outputs": [],
   "source": []
  }
 ],
 "metadata": {
  "kernelspec": {
   "display_name": "Python 3 (ipykernel)",
   "language": "python",
   "name": "python3"
  },
  "language_info": {
   "codemirror_mode": {
    "name": "ipython",
    "version": 3
   },
   "file_extension": ".py",
   "mimetype": "text/x-python",
   "name": "python",
   "nbconvert_exporter": "python",
   "pygments_lexer": "ipython3",
   "version": "3.12.7"
  }
 },
 "nbformat": 4,
 "nbformat_minor": 5
}
