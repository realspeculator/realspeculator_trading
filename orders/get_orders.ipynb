{
 "cells": [
  {
   "cell_type": "code",
   "execution_count": 1,
   "id": "249dced0-fd4f-45fb-9daa-67947e1b54f9",
   "metadata": {
    "execution": {
     "iopub.execute_input": "2024-12-11T21:06:06.276063Z",
     "iopub.status.busy": "2024-12-11T21:06:06.275822Z",
     "iopub.status.idle": "2024-12-11T21:06:06.633103Z",
     "shell.execute_reply": "2024-12-11T21:06:06.630285Z"
    }
   },
   "outputs": [],
   "source": [
    "from alpaca.trading.client import TradingClient\n",
    "from alpaca.trading.requests import GetOrdersRequest\n",
    "from alpaca.trading.enums import QueryOrderStatus\n",
    "from datetime import datetime\n",
    "import pandas as pd\n",
    "import configparser\n",
    "\n",
    "\n",
    "# Read the config file\n",
    "config = configparser.ConfigParser()\n",
    "config.read(\"../alpaca.ini\")\n",
    "api = config['ALPACA']['api']\n",
    "secret = config['ALPACA']['secret']\n",
    "\n",
    "\n",
    "file_name = datetime.now().strftime(\"%Y_%m_%d_%H_%M_%S\") + (\"_order_history.csv\")\n",
    "file_name = \"orders_data/\" + file_name"
   ]
  },
  {
   "cell_type": "code",
   "execution_count": 2,
   "id": "6daf9510-6a01-4391-bec1-5360bdfa6cba",
   "metadata": {
    "execution": {
     "iopub.execute_input": "2024-12-11T21:06:06.634679Z",
     "iopub.status.busy": "2024-12-11T21:06:06.634569Z",
     "iopub.status.idle": "2024-12-11T21:06:06.761184Z",
     "shell.execute_reply": "2024-12-11T21:06:06.760897Z"
    }
   },
   "outputs": [],
   "source": [
    "trading_client = TradingClient(api, secret)\n",
    "\n",
    "# Get the last 100 closed orders\n",
    "get_orders_data = GetOrdersRequest(\n",
    "    status=QueryOrderStatus.ALL,\n",
    "    limit=10000,\n",
    "    nested=True  # show nested multi-leg orders\n",
    ")\n",
    "\n",
    "all_orders = trading_client.get_orders(filter=get_orders_data)\n",
    "\n",
    "all_orders_df = pd.DataFrame({\n",
    "    'ticker':[x.symbol for x in all_orders],\n",
    "    'side':[x.side for x in all_orders],\n",
    "    'filled_qty':[x.filled_qty for x in all_orders],\n",
    "    'filled_avg_price':[x.filled_avg_price for x in all_orders],\n",
    "    'limit_price':[x.limit_price for x in all_orders],\n",
    "    'order_type':[x.order_type for x in all_orders],\n",
    "    'status':[x.status for x in all_orders],\n",
    "    'stop_price':[x.stop_price for x in all_orders],\n",
    "    'created_at':[x.created_at for x in all_orders],\n",
    "    'filled_at':[x.filled_at for x in all_orders],\n",
    "    'client_order_id':[x.client_order_id for x in all_orders]\n",
    "})"
   ]
  },
  {
   "cell_type": "code",
   "execution_count": 3,
   "id": "697c9a1c-6cdf-41ae-bd47-1eb791597cc2",
   "metadata": {
    "execution": {
     "iopub.execute_input": "2024-12-11T21:06:06.762809Z",
     "iopub.status.busy": "2024-12-11T21:06:06.762722Z",
     "iopub.status.idle": "2024-12-11T21:06:06.766101Z",
     "shell.execute_reply": "2024-12-11T21:06:06.765862Z"
    }
   },
   "outputs": [],
   "source": [
    "all_orders_df.to_csv(file_name, index = False)"
   ]
  },
  {
   "cell_type": "code",
   "execution_count": 4,
   "id": "e0d5b965-bd95-4dfb-acee-ed3ebd4f5c95",
   "metadata": {
    "execution": {
     "iopub.execute_input": "2024-12-11T21:06:06.767589Z",
     "iopub.status.busy": "2024-12-11T21:06:06.767496Z",
     "iopub.status.idle": "2024-12-11T21:06:06.770781Z",
     "shell.execute_reply": "2024-12-11T21:06:06.770556Z"
    }
   },
   "outputs": [
    {
     "data": {
      "text/plain": [
       "[{   'asset_class': <AssetClass.US_EQUITY: 'us_equity'>,\n",
       "     'asset_id': UUID('88968dd4-f4b4-4143-830e-f5ed16a4d241'),\n",
       "     'canceled_at': None,\n",
       "     'client_order_id': '6a5f5341-5dd7-47fa-93bc-1fdc4c66e910',\n",
       "     'created_at': datetime.datetime(2024, 12, 11, 20, 2, 16, 191966, tzinfo=TzInfo(UTC)),\n",
       "     'expired_at': None,\n",
       "     'extended_hours': False,\n",
       "     'failed_at': None,\n",
       "     'filled_at': None,\n",
       "     'filled_avg_price': None,\n",
       "     'filled_qty': '0',\n",
       "     'hwm': None,\n",
       "     'id': UUID('98532612-2785-43a7-9c58-a27a804aa8c0'),\n",
       "     'legs': None,\n",
       "     'limit_price': None,\n",
       "     'notional': None,\n",
       "     'order_class': <OrderClass.SIMPLE: 'simple'>,\n",
       "     'order_type': <OrderType.STOP: 'stop'>,\n",
       "     'qty': '1200',\n",
       "     'replaced_at': None,\n",
       "     'replaced_by': None,\n",
       "     'replaces': None,\n",
       "     'side': <OrderSide.SELL: 'sell'>,\n",
       "     'status': <OrderStatus.NEW: 'new'>,\n",
       "     'stop_price': '41.88',\n",
       "     'submitted_at': datetime.datetime(2024, 12, 11, 20, 2, 16, 195943, tzinfo=TzInfo(UTC)),\n",
       "     'symbol': 'IOT',\n",
       "     'time_in_force': <TimeInForce.GTC: 'gtc'>,\n",
       "     'trail_percent': None,\n",
       "     'trail_price': None,\n",
       "     'type': <OrderType.STOP: 'stop'>,\n",
       "     'updated_at': datetime.datetime(2024, 12, 11, 20, 2, 16, 197071, tzinfo=TzInfo(UTC))},\n",
       " {   'asset_class': <AssetClass.US_EQUITY: 'us_equity'>,\n",
       "     'asset_id': UUID('88968dd4-f4b4-4143-830e-f5ed16a4d241'),\n",
       "     'canceled_at': None,\n",
       "     'client_order_id': 'ccc927ce-a368-4d8e-8f44-020721c5cca4',\n",
       "     'created_at': datetime.datetime(2024, 12, 11, 19, 56, 6, 882974, tzinfo=TzInfo(UTC)),\n",
       "     'expired_at': None,\n",
       "     'extended_hours': False,\n",
       "     'failed_at': None,\n",
       "     'filled_at': datetime.datetime(2024, 12, 11, 19, 56, 7, 475631, tzinfo=TzInfo(UTC)),\n",
       "     'filled_avg_price': '46.01',\n",
       "     'filled_qty': '1200',\n",
       "     'hwm': None,\n",
       "     'id': UUID('96f44d62-9cd6-4713-ab75-89b9d63ff086'),\n",
       "     'legs': None,\n",
       "     'limit_price': None,\n",
       "     'notional': None,\n",
       "     'order_class': <OrderClass.SIMPLE: 'simple'>,\n",
       "     'order_type': <OrderType.MARKET: 'market'>,\n",
       "     'qty': '1200',\n",
       "     'replaced_at': None,\n",
       "     'replaced_by': None,\n",
       "     'replaces': None,\n",
       "     'side': <OrderSide.BUY: 'buy'>,\n",
       "     'status': <OrderStatus.FILLED: 'filled'>,\n",
       "     'stop_price': None,\n",
       "     'submitted_at': datetime.datetime(2024, 12, 11, 19, 56, 6, 910197, tzinfo=TzInfo(UTC)),\n",
       "     'symbol': 'IOT',\n",
       "     'time_in_force': <TimeInForce.GTC: 'gtc'>,\n",
       "     'trail_percent': None,\n",
       "     'trail_price': None,\n",
       "     'type': <OrderType.MARKET: 'market'>,\n",
       "     'updated_at': datetime.datetime(2024, 12, 11, 19, 56, 7, 477540, tzinfo=TzInfo(UTC))}]"
      ]
     },
     "execution_count": 4,
     "metadata": {},
     "output_type": "execute_result"
    }
   ],
   "source": [
    "all_orders"
   ]
  },
  {
   "cell_type": "code",
   "execution_count": null,
   "id": "f15d370a-27b2-487e-9f27-29c6945fdd68",
   "metadata": {},
   "outputs": [],
   "source": []
  }
 ],
 "metadata": {
  "kernelspec": {
   "display_name": "Python 3 (ipykernel)",
   "language": "python",
   "name": "python3"
  },
  "language_info": {
   "codemirror_mode": {
    "name": "ipython",
    "version": 3
   },
   "file_extension": ".py",
   "mimetype": "text/x-python",
   "name": "python",
   "nbconvert_exporter": "python",
   "pygments_lexer": "ipython3",
   "version": "3.12.7"
  }
 },
 "nbformat": 4,
 "nbformat_minor": 5
}
